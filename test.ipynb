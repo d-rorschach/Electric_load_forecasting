{
 "cells": [
  {
   "cell_type": "code",
   "execution_count": 1,
   "metadata": {},
   "outputs": [],
   "source": [
    "import numpy as np\n",
    "import pandas as pd\n",
    "import matplotlib.pyplot as plt\n",
    "from sklearn.preprocessing import MinMaxScaler"
   ]
  },
  {
   "cell_type": "markdown",
   "metadata": {},
   "source": [
    "# initialization"
   ]
  },
  {
   "cell_type": "code",
   "execution_count": 2,
   "metadata": {},
   "outputs": [],
   "source": [
    "BATCH_SIZE=1\n",
    "time_step=30 #data of prevoius 29 hours + current data\n",
    "n_features = 7 #day month year weekday hour temperature previous_hour_load"
   ]
  },
  {
   "cell_type": "markdown",
   "metadata": {},
   "source": [
    "# load data"
   ]
  },
  {
   "cell_type": "code",
   "execution_count": 3,
   "metadata": {},
   "outputs": [
    {
     "name": "stdout",
     "output_type": "stream",
     "text": [
      "(7263, 30, 7)\n",
      "(7263, 1)\n"
     ]
    }
   ],
   "source": [
    "# to know more about x_test and y_test you can check load_predict_step_by_step.ipynb code\n",
    "import pickle\n",
    "pic_in=open(\"./data/x_test.pickle\",\"rb\")\n",
    "x_test=pickle.load(pic_in)\n",
    "\n",
    "pic_in=open(\"./data/y_test.pickle\",\"rb\")\n",
    "y_test=pickle.load(pic_in)\n",
    "\n",
    "print(x_test.shape)\n",
    "print(y_test.shape)"
   ]
  },
  {
   "cell_type": "markdown",
   "metadata": {},
   "source": [
    "# load model"
   ]
  },
  {
   "cell_type": "code",
   "execution_count": 4,
   "metadata": {},
   "outputs": [
    {
     "name": "stderr",
     "output_type": "stream",
     "text": [
      "Using TensorFlow backend.\n"
     ]
    }
   ],
   "source": [
    "from keras.models import model_from_json\n",
    "json_file = open('./data/LSTM_model.json', 'r')\n",
    "loaded_model_json = json_file.read()\n",
    "json_file.close()\n",
    "model = model_from_json(loaded_model_json)"
   ]
  },
  {
   "cell_type": "code",
   "execution_count": 5,
   "metadata": {},
   "outputs": [
    {
     "name": "stdout",
     "output_type": "stream",
     "text": [
      "Model: \"sequential_1\"\n",
      "_________________________________________________________________\n",
      "Layer (type)                 Output Shape              Param #   \n",
      "=================================================================\n",
      "lstm_1 (LSTM)                (1, 30, 64)               18432     \n",
      "_________________________________________________________________\n",
      "leaky_re_lu_1 (LeakyReLU)    (1, 30, 64)               0         \n",
      "_________________________________________________________________\n",
      "dropout_1 (Dropout)          (1, 30, 64)               0         \n",
      "_________________________________________________________________\n",
      "batch_normalization_1 (Batch (1, 30, 64)               256       \n",
      "_________________________________________________________________\n",
      "lstm_2 (LSTM)                (1, 30, 128)              98816     \n",
      "_________________________________________________________________\n",
      "leaky_re_lu_2 (LeakyReLU)    (1, 30, 128)              0         \n",
      "_________________________________________________________________\n",
      "dropout_2 (Dropout)          (1, 30, 128)              0         \n",
      "_________________________________________________________________\n",
      "batch_normalization_2 (Batch (1, 30, 128)              512       \n",
      "_________________________________________________________________\n",
      "lstm_3 (LSTM)                (1, 30, 256)              394240    \n",
      "_________________________________________________________________\n",
      "leaky_re_lu_3 (LeakyReLU)    (1, 30, 256)              0         \n",
      "_________________________________________________________________\n",
      "dropout_3 (Dropout)          (1, 30, 256)              0         \n",
      "_________________________________________________________________\n",
      "batch_normalization_3 (Batch (1, 30, 256)              1024      \n",
      "_________________________________________________________________\n",
      "lstm_4 (LSTM)                (1, 30, 256)              525312    \n",
      "_________________________________________________________________\n",
      "leaky_re_lu_4 (LeakyReLU)    (1, 30, 256)              0         \n",
      "_________________________________________________________________\n",
      "dropout_4 (Dropout)          (1, 30, 256)              0         \n",
      "_________________________________________________________________\n",
      "batch_normalization_4 (Batch (1, 30, 256)              1024      \n",
      "_________________________________________________________________\n",
      "lstm_5 (LSTM)                (1, 30, 128)              197120    \n",
      "_________________________________________________________________\n",
      "leaky_re_lu_5 (LeakyReLU)    (1, 30, 128)              0         \n",
      "_________________________________________________________________\n",
      "dropout_5 (Dropout)          (1, 30, 128)              0         \n",
      "_________________________________________________________________\n",
      "batch_normalization_5 (Batch (1, 30, 128)              512       \n",
      "_________________________________________________________________\n",
      "lstm_6 (LSTM)                (1, 64)                   49408     \n",
      "_________________________________________________________________\n",
      "leaky_re_lu_6 (LeakyReLU)    (1, 64)                   0         \n",
      "_________________________________________________________________\n",
      "dropout_6 (Dropout)          (1, 64)                   0         \n",
      "_________________________________________________________________\n",
      "batch_normalization_6 (Batch (1, 64)                   256       \n",
      "_________________________________________________________________\n",
      "dense_1 (Dense)              (1, 32)                   2080      \n",
      "_________________________________________________________________\n",
      "leaky_re_lu_7 (LeakyReLU)    (1, 32)                   0         \n",
      "_________________________________________________________________\n",
      "dense_2 (Dense)              (1, 1)                    33        \n",
      "=================================================================\n",
      "Total params: 1,289,025\n",
      "Trainable params: 1,287,233\n",
      "Non-trainable params: 1,792\n",
      "_________________________________________________________________\n"
     ]
    }
   ],
   "source": [
    "model.summary()"
   ]
  },
  {
   "cell_type": "markdown",
   "metadata": {},
   "source": [
    "# loading pre-trained weight"
   ]
  },
  {
   "cell_type": "code",
   "execution_count": 6,
   "metadata": {},
   "outputs": [],
   "source": [
    "model.load_weights('./data/weight.h5')"
   ]
  },
  {
   "cell_type": "markdown",
   "metadata": {},
   "source": [
    "# testing"
   ]
  },
  {
   "cell_type": "code",
   "execution_count": 7,
   "metadata": {},
   "outputs": [],
   "source": [
    "batch_size=BATCH_SIZE\n",
    "#predict on test dataset\n",
    "y_pred=model.predict(x_test, batch_size=batch_size)\n",
    "model.reset_states()"
   ]
  },
  {
   "cell_type": "code",
   "execution_count": 8,
   "metadata": {},
   "outputs": [
    {
     "name": "stdout",
     "output_type": "stream",
     "text": [
      "(7263,)\n",
      "(7263,)\n",
      "(7263,)\n"
     ]
    }
   ],
   "source": [
    "x_axis=np.linspace(1,len(y_pred),len(y_pred))\n",
    "print(x_axis.shape)\n",
    "y_pred=y_pred.reshape(-1)\n",
    "y_test=y_test.reshape(-1)\n",
    "#inverse scaling, here ymax=27622 and ymin=7794\n",
    "y_test=y_test*(27622-7794)+7794\n",
    "y_pred=y_pred*(27622-7794)+7794\n",
    "print(y_pred.shape)\n",
    "print(y_test.shape)"
   ]
  },
  {
   "cell_type": "code",
   "execution_count": 9,
   "metadata": {},
   "outputs": [
    {
     "data": {
      "image/png": "[encoded data removed]",
      "text/plain": [
       "<Figure size 432x288 with 1 Axes>"
      ]
     },
     "metadata": {
      "needs_background": "light"
     },
     "output_type": "display_data"
    }
   ],
   "source": [
    "plt.plot(x_axis[:100],y_test[:100])\n",
    "plt.plot(x_axis[:100],y_pred[:100])\n",
    "plt.legend(['true','prediction'])\n",
    "plt.show()"
   ]
  },
  {
   "cell_type": "code",
   "execution_count": 10,
   "metadata": {},
   "outputs": [
    {
     "name": "stdout",
     "output_type": "stream",
     "text": [
      "16749.05\n",
      "16542.0\n"
     ]
    }
   ],
   "source": [
    "print(y_pred[5])\n",
    "print(y_test[5])"
   ]
  }
 ],
 "metadata": {
  "kernelspec": {
   "display_name": "Python 3",
   "language": "python",
   "name": "python3"
  },
  "language_info": {
   "codemirror_mode": {
    "name": "ipython",
    "version": 3
   },
   "file_extension": ".py",
   "mimetype": "text/x-python",
   "name": "python",
   "nbconvert_exporter": "python",
   "pygments_lexer": "ipython3",
   "version": "3.7.3"
  }
 },
 "nbformat": 4,
 "nbformat_minor": 2
}
